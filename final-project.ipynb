{
 "cells": [
  {
   "cell_type": "code",
   "execution_count": 113,
   "metadata": {},
   "outputs": [],
   "source": [
    "def stableMatching(n, menPreferences, womenPreferences):\n",
    "    \n",
    "    assert len(menPreferences) == n\n",
    "    assert len(womenPreferences) == n\n",
    "    assert sum(len(i) for i in menPreferences) == n*n\n",
    "    assert sum(len(i) for i in womenPreferences) == n*n\n",
    "    \n",
    "    unmarriedMen = [i for i in range(n)]\n",
    "    manSpouse = [None]*n # list of current spouses of all men\n",
    "    womanSpouse = [None]*n # list of current spouses of all women\n",
    "    nextManChoice = [0]*n # each man made 0 proposals, first proposal to the 1st in list in preferences\n",
    "    \n",
    "    while len(unmarriedMen) > 0:\n",
    "        he = unmarriedMen[0]       \n",
    "        hisPreferences = menPreferences[he]\n",
    "        she = hisPreferences[nextManChoice[he]] # preferences of a woman he hasn't proposed yet \n",
    "        herPreferences = womenPreferences[she]\n",
    "        currentHusband = womanSpouse[she]\n",
    "        \n",
    "        if currentHusband is None:\n",
    "            manSpouse[he] = she \n",
    "            womanSpouse[she] = he \n",
    "            nextManChoice[he] = nextManChoice[he] + 1\n",
    "            unmarriedMen.pop(0)\n",
    "        else:\n",
    "            #\n",
    "            # candidate better than husband: accept\n",
    "            #\n",
    "            if herPreferences.index(currentHusband) > herPreferences.index(he):\n",
    "                manSpouse[he] = she\n",
    "                manSpouse[currentHusband] = None\n",
    "                womanSpouse[she] = he\n",
    "                nextManChoice[he] = nextManChoice[he] + 1\n",
    "                unmarriedMen.pop(0)\n",
    "                unmarriedMen.append(currentHusband)\n",
    "            #\n",
    "            # reject the candidate\n",
    "            #\n",
    "            else:\n",
    "                # do nothing, reset next man's choice\n",
    "                nextManChoice[he] = nextManChoice[he] + 1\n",
    "    return manSpouse"
   ]
  },
  {
   "cell_type": "code",
   "execution_count": 114,
   "metadata": {},
   "outputs": [
    {
     "data": {
      "text/plain": [
       "[0, 1]"
      ]
     },
     "execution_count": 114,
     "metadata": {},
     "output_type": "execute_result"
    }
   ],
   "source": [
    "#\n",
    "# base case 1\n",
    "#\n",
    "stableMatching(2, [[0,1], [1,0]], [[0,1], [1,0]])"
   ]
  },
  {
   "cell_type": "code",
   "execution_count": 118,
   "metadata": {},
   "outputs": [
    {
     "data": {
      "text/plain": [
       "[0]"
      ]
     },
     "execution_count": 118,
     "metadata": {},
     "output_type": "execute_result"
    }
   ],
   "source": [
    "#\n",
    "# base case 2\n",
    "#\n",
    "stableMatching(1, [[0]], [[0]])"
   ]
  },
  {
   "cell_type": "code",
   "execution_count": 116,
   "metadata": {},
   "outputs": [],
   "source": [
    "mp = [[1,3,0,2],\n",
    "     [1,3,0,2],\n",
    "     [1,2,0,3],\n",
    "     [3,0,2,1]]\n",
    "wp = [[1,0,3,2],\n",
    "     [3,2,0,1],\n",
    "     [0,3,2,1],\n",
    "     [1,0,3,2]]"
   ]
  },
  {
   "cell_type": "code",
   "execution_count": 119,
   "metadata": {},
   "outputs": [
    {
     "data": {
      "text/plain": [
       "[0, 3, 1, 2]"
      ]
     },
     "execution_count": 119,
     "metadata": {},
     "output_type": "execute_result"
    }
   ],
   "source": [
    "#\n",
    "# test\n",
    "#\n",
    "stableMatching(4,mp,wp)"
   ]
  }
 ],
 "metadata": {
  "kernelspec": {
   "display_name": "Python 3",
   "language": "python",
   "name": "python3"
  },
  "language_info": {
   "codemirror_mode": {
    "name": "ipython",
    "version": 3
   },
   "file_extension": ".py",
   "mimetype": "text/x-python",
   "name": "python",
   "nbconvert_exporter": "python",
   "pygments_lexer": "ipython3",
   "version": "3.7.3"
  }
 },
 "nbformat": 4,
 "nbformat_minor": 2
}
